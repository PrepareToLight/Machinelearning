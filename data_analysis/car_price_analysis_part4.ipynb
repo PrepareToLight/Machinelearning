{
 "cells": [
  {
   "cell_type": "markdown",
   "id": "396f9428",
   "metadata": {},
   "source": [
    "<h1>Model Development</h1>\n",
    "In data analysis we would like to make some predictions implied form given data. For example we would like to now if the price offered by us is fair and not to high or too low."
   ]
  },
  {
   "cell_type": "code",
   "execution_count": 1,
   "id": "8cf82623",
   "metadata": {},
   "outputs": [],
   "source": [
    "# import nesceseary modules\n",
    "import pandas as pd\n",
    "import numpy as np\n",
    "import matplotlib.pyplot as plt"
   ]
  },
  {
   "cell_type": "code",
   "execution_count": 2,
   "id": "9a5ebd85",
   "metadata": {},
   "outputs": [],
   "source": [
    "# lets download our cars-dataset\n",
    "df = pd.read_csv(\"clean_autos.csv\")"
   ]
  },
  {
   "cell_type": "markdown",
   "id": "c4b45c20",
   "metadata": {},
   "source": [
    "<h2> Linear Regression and Multiple Linear Regression </h2>\n",
    "<ul>\n",
    "    <li> X - predicator variable </li>\n",
    "    <li> Y - response variable </li>\n",
    "</ul> \n",
    "<b>Linear Function</b> That try's to fit model by finding $\\beta_0, \\beta_1$ (intercept, slope) is\n",
    "<center> $\\hat{Y} = \\beta_0 + \\beta_1 X$. </center>\n",
    "<p>Where $\\hat{Y} \\approx Y$ - true response. </p>"
   ]
  },
  {
   "cell_type": "code",
   "execution_count": 3,
   "id": "00552bb4",
   "metadata": {},
   "outputs": [
    {
     "data": {
      "text/plain": [
       "LinearRegression()"
      ]
     },
     "execution_count": 3,
     "metadata": {},
     "output_type": "execute_result"
    }
   ],
   "source": [
    "# lets import modlues for linear regression\n",
    "from sklearn.linear_model import LinearRegression\n",
    "lm = LinearRegression()\n",
    "lm\n",
    "# we can put it simpler by\n",
    "# from sklearn.linear_model import LinearRegression as lm"
   ]
  },
  {
   "cell_type": "markdown",
   "id": "ad10f615",
   "metadata": {},
   "source": [
    "<p>Lets try to make a price predictions using highway-mpg as predicator variable to fit linear regression. </p>"
   ]
  },
  {
   "cell_type": "code",
   "execution_count": 4,
   "id": "1b495a47",
   "metadata": {},
   "outputs": [
    {
     "data": {
      "text/plain": [
       "LinearRegression()"
      ]
     },
     "execution_count": 4,
     "metadata": {},
     "output_type": "execute_result"
    }
   ],
   "source": [
    "# assign predicator and respone variable\n",
    "x = df[[\"highway-mpg\"]]\n",
    "y = df[\"price\"]\n",
    "# fit linear regression model\n",
    "lm.fit(x,y)"
   ]
  },
  {
   "cell_type": "code",
   "execution_count": 5,
   "id": "d3a8bf85",
   "metadata": {},
   "outputs": [
    {
     "name": "stdout",
     "output_type": "stream",
     "text": [
      "Slope b0 = 38423.305858157386, intercept b1 = [-821.73337832]\n"
     ]
    }
   ],
   "source": [
    "yhat = lm.predict(x)\n",
    "#yhat[:10]\n",
    "# intercept \n",
    "b0 =  lm.intercept_\n",
    "b1 = lm.coef_\n",
    "print(f\"Slope b0 = {b0}, intercept b1 = {b1}\")"
   ]
  },
  {
   "cell_type": "markdown",
   "id": "66b97b3a",
   "metadata": {},
   "source": [
    "<p> Now lets make a prediction of a price according to engine-szie </p>"
   ]
  },
  {
   "cell_type": "code",
   "execution_count": 6,
   "id": "a3428f3f",
   "metadata": {},
   "outputs": [
    {
     "data": {
      "text/plain": [
       "LinearRegression()"
      ]
     },
     "execution_count": 6,
     "metadata": {},
     "output_type": "execute_result"
    }
   ],
   "source": [
    "# create a LR object\n",
    "lm1 = LinearRegression()\n",
    "# check if it worked\n",
    "lm1"
   ]
  },
  {
   "cell_type": "code",
   "execution_count": 7,
   "id": "03e36175",
   "metadata": {},
   "outputs": [
    {
     "name": "stdout",
     "output_type": "stream",
     "text": [
      "[-7963.33890628]\n",
      "[[166.86001569]]\n",
      "Our Linear model is: Yhat = -7963.338906281046 + 166.86001569141598 X\n"
     ]
    }
   ],
   "source": [
    "# calculate a coefficients with fit(predicator,response) \n",
    "lm1.fit(df[[\"engine-size\"]],df[[\"price\"]])\n",
    "b1_0 =  lm1.intercept_\n",
    "# take a look how nested data out we get\n",
    "print(b1_0)\n",
    "b1_1 = lm1.coef_\n",
    "print(b1_1)\n",
    "print(f\"Our Linear model is: Yhat = {b1_0[0]} + {b1_1[0][0]} X\")"
   ]
  },
  {
   "cell_type": "markdown",
   "id": "f723685c",
   "metadata": {},
   "source": [
    "<p> To create predictions ($\\hat{Y}$) we can do it using lm.prediction() or manually type equetion  $\\hat{Y} = \\beta_0 + \\beta_1 X$ with calculated coeficients. </p>"
   ]
  },
  {
   "cell_type": "markdown",
   "id": "a50d85fd",
   "metadata": {},
   "source": [
    "<b> Multiple Linear Regression </b>\n",
    "<p> We can have more then one predicator. Our response can depend on n's prediction variables as</p>\n",
    "<center> $\\hat{Y} = \\beta_0 + \\beta_1 X_1 + ... + \\beta_n X_n $ </center>\n",
    "<p> Where inrecept is $\\beta_0$ and coefficients $\\beta_1, \\beta_2, ..., \\beta_n$ </p>"
   ]
  },
  {
   "cell_type": "markdown",
   "id": "56c25e94",
   "metadata": {},
   "source": [
    "<b> Example </b> From previous parts if we analyze pearson coeficients and p-values of all fearures (separetadly) with price, we deduce that horsepower, curb-weight, engine-size, highway-mpg are good predicators."
   ]
  },
  {
   "cell_type": "code",
   "execution_count": 8,
   "id": "c85473df",
   "metadata": {},
   "outputs": [
    {
     "data": {
      "text/plain": [
       "LinearRegression()"
      ]
     },
     "execution_count": 8,
     "metadata": {},
     "output_type": "execute_result"
    }
   ],
   "source": [
    "# create regression obj\n",
    "lm_Z = LinearRegression()\n",
    "# lets create a predicators vector\n",
    "Z = df[[\"horsepower\",\"curb-weight\",\"engine-size\",\"highway-mpg\"]]\n",
    "# fit the model\n",
    "lm_Z.fit(Z, df[\"price\"])\n"
   ]
  },
  {
   "cell_type": "code",
   "execution_count": 9,
   "id": "ade22fa9",
   "metadata": {},
   "outputs": [
    {
     "name": "stdout",
     "output_type": "stream",
     "text": [
      "inrecept = -15811.863767729246, coefficients = [53.53022809  4.70805253 81.51280006 36.1593925 ]\n"
     ]
    }
   ],
   "source": [
    "print(f\"inrecept = {lm_Z.intercept_}, coefficients = {lm_Z.coef_}\")"
   ]
  },
  {
   "cell_type": "markdown",
   "id": "d7a38e95",
   "metadata": {},
   "source": [
    "Writing dawn our model we got:\n",
    "<p> $\\hat{Price} = $ -15811.863767729246 + 53.53022809 x <b> horsepower </b> + 4.70805253 x <b> crub-weight </b> + 81.51280006 x <b> engine-size </b> + 36.1593925 x <b> highway-mpg </b> </p>"
   ]
  },
  {
   "cell_type": "code",
   "execution_count": 10,
   "id": "c65b87f0",
   "metadata": {},
   "outputs": [],
   "source": [
    "Price = -15811.863767729246 + 53.53022809*df[\"horsepower\"] + 4.70805253*df[\"curb-weight\"]  + 81.51280006*df[\"engine-size\"] + 36.1593925*df[\"highway-mpg\"]"
   ]
  },
  {
   "cell_type": "code",
   "execution_count": 11,
   "id": "d3370acb",
   "metadata": {},
   "outputs": [],
   "source": [
    "\n",
    "err = abs(Price - df[\"price\"])/df[\"price\"]*100\n",
    "#print(err)\n",
    "price = pd.concat([Price, err], axis=1)"
   ]
  },
  {
   "cell_type": "code",
   "execution_count": 12,
   "id": "fcee0d34",
   "metadata": {},
   "outputs": [
    {
     "data": {
      "text/plain": [
       "RangeIndex(start=0, stop=2, step=1)"
      ]
     },
     "execution_count": 12,
     "metadata": {},
     "output_type": "execute_result"
    }
   ],
   "source": [
    "price.columns"
   ]
  },
  {
   "cell_type": "code",
   "execution_count": 13,
   "id": "10e5e400",
   "metadata": {},
   "outputs": [],
   "source": [
    "price.rename(columns={0:\"predicted price\", 1:\"error%\"},inplace=True)"
   ]
  },
  {
   "cell_type": "code",
   "execution_count": 14,
   "id": "9e3e53bf",
   "metadata": {},
   "outputs": [
    {
     "data": {
      "text/html": [
       "<div>\n",
       "<style scoped>\n",
       "    .dataframe tbody tr th:only-of-type {\n",
       "        vertical-align: middle;\n",
       "    }\n",
       "\n",
       "    .dataframe tbody tr th {\n",
       "        vertical-align: top;\n",
       "    }\n",
       "\n",
       "    .dataframe thead th {\n",
       "        text-align: right;\n",
       "    }\n",
       "</style>\n",
       "<table border=\"1\" class=\"dataframe\">\n",
       "  <thead>\n",
       "    <tr style=\"text-align: right;\">\n",
       "      <th></th>\n",
       "      <th>price</th>\n",
       "      <th>predicted price</th>\n",
       "      <th>error%</th>\n",
       "    </tr>\n",
       "  </thead>\n",
       "  <tbody>\n",
       "    <tr>\n",
       "      <th>0</th>\n",
       "      <td>13495.0</td>\n",
       "      <td>13699.077002</td>\n",
       "      <td>1.512242</td>\n",
       "    </tr>\n",
       "    <tr>\n",
       "      <th>1</th>\n",
       "      <td>16500.0</td>\n",
       "      <td>13699.077002</td>\n",
       "      <td>16.975291</td>\n",
       "    </tr>\n",
       "    <tr>\n",
       "      <th>2</th>\n",
       "      <td>16500.0</td>\n",
       "      <td>19052.713464</td>\n",
       "      <td>15.470991</td>\n",
       "    </tr>\n",
       "    <tr>\n",
       "      <th>3</th>\n",
       "      <td>13950.0</td>\n",
       "      <td>10620.615242</td>\n",
       "      <td>23.866557</td>\n",
       "    </tr>\n",
       "    <tr>\n",
       "      <th>4</th>\n",
       "      <td>17450.0</td>\n",
       "      <td>15520.900251</td>\n",
       "      <td>11.055013</td>\n",
       "    </tr>\n",
       "    <tr>\n",
       "      <th>5</th>\n",
       "      <td>15250.0</td>\n",
       "      <td>13869.274636</td>\n",
       "      <td>9.053937</td>\n",
       "    </tr>\n",
       "    <tr>\n",
       "      <th>6</th>\n",
       "      <td>17710.0</td>\n",
       "      <td>15455.888338</td>\n",
       "      <td>12.727903</td>\n",
       "    </tr>\n",
       "    <tr>\n",
       "      <th>7</th>\n",
       "      <td>18920.0</td>\n",
       "      <td>15973.774116</td>\n",
       "      <td>15.572018</td>\n",
       "    </tr>\n",
       "    <tr>\n",
       "      <th>8</th>\n",
       "      <td>23875.0</td>\n",
       "      <td>17612.782930</td>\n",
       "      <td>26.229181</td>\n",
       "    </tr>\n",
       "    <tr>\n",
       "      <th>9</th>\n",
       "      <td>16430.0</td>\n",
       "      <td>10722.479868</td>\n",
       "      <td>34.738406</td>\n",
       "    </tr>\n",
       "    <tr>\n",
       "      <th>10</th>\n",
       "      <td>16925.0</td>\n",
       "      <td>10722.479868</td>\n",
       "      <td>36.647091</td>\n",
       "    </tr>\n",
       "    <tr>\n",
       "      <th>11</th>\n",
       "      <td>20970.0</td>\n",
       "      <td>17804.678387</td>\n",
       "      <td>15.094524</td>\n",
       "    </tr>\n",
       "    <tr>\n",
       "      <th>12</th>\n",
       "      <td>21105.0</td>\n",
       "      <td>18063.621276</td>\n",
       "      <td>14.410702</td>\n",
       "    </tr>\n",
       "    <tr>\n",
       "      <th>13</th>\n",
       "      <td>24565.0</td>\n",
       "      <td>19320.478333</td>\n",
       "      <td>21.349569</td>\n",
       "    </tr>\n",
       "    <tr>\n",
       "      <th>14</th>\n",
       "      <td>30760.0</td>\n",
       "      <td>26969.329264</td>\n",
       "      <td>12.323377</td>\n",
       "    </tr>\n",
       "    <tr>\n",
       "      <th>15</th>\n",
       "      <td>41315.0</td>\n",
       "      <td>27675.537144</td>\n",
       "      <td>33.013343</td>\n",
       "    </tr>\n",
       "    <tr>\n",
       "      <th>16</th>\n",
       "      <td>36880.0</td>\n",
       "      <td>28191.724925</td>\n",
       "      <td>23.558230</td>\n",
       "    </tr>\n",
       "    <tr>\n",
       "      <th>17</th>\n",
       "      <td>5151.0</td>\n",
       "      <td>651.897951</td>\n",
       "      <td>87.344245</td>\n",
       "    </tr>\n",
       "    <tr>\n",
       "      <th>18</th>\n",
       "      <td>6295.0</td>\n",
       "      <td>5649.148523</td>\n",
       "      <td>10.259753</td>\n",
       "    </tr>\n",
       "    <tr>\n",
       "      <th>19</th>\n",
       "      <td>6575.0</td>\n",
       "      <td>5813.930361</td>\n",
       "      <td>11.575204</td>\n",
       "    </tr>\n",
       "    <tr>\n",
       "      <th>20</th>\n",
       "      <td>5572.0</td>\n",
       "      <td>5479.185387</td>\n",
       "      <td>1.665732</td>\n",
       "    </tr>\n",
       "    <tr>\n",
       "      <th>21</th>\n",
       "      <td>6377.0</td>\n",
       "      <td>5370.707209</td>\n",
       "      <td>15.780034</td>\n",
       "    </tr>\n",
       "    <tr>\n",
       "      <th>22</th>\n",
       "      <td>7957.0</td>\n",
       "      <td>8739.991462</td>\n",
       "      <td>9.840285</td>\n",
       "    </tr>\n",
       "    <tr>\n",
       "      <th>23</th>\n",
       "      <td>6229.0</td>\n",
       "      <td>5799.139989</td>\n",
       "      <td>6.900947</td>\n",
       "    </tr>\n",
       "    <tr>\n",
       "      <th>24</th>\n",
       "      <td>6692.0</td>\n",
       "      <td>5902.717145</td>\n",
       "      <td>11.794424</td>\n",
       "    </tr>\n",
       "    <tr>\n",
       "      <th>25</th>\n",
       "      <td>7609.0</td>\n",
       "      <td>5902.717145</td>\n",
       "      <td>22.424535</td>\n",
       "    </tr>\n",
       "    <tr>\n",
       "      <th>26</th>\n",
       "      <td>8558.0</td>\n",
       "      <td>9036.598772</td>\n",
       "      <td>5.592414</td>\n",
       "    </tr>\n",
       "    <tr>\n",
       "      <th>27</th>\n",
       "      <td>8921.0</td>\n",
       "      <td>11863.052850</td>\n",
       "      <td>32.978958</td>\n",
       "    </tr>\n",
       "    <tr>\n",
       "      <th>28</th>\n",
       "      <td>12964.0</td>\n",
       "      <td>18768.177197</td>\n",
       "      <td>44.771500</td>\n",
       "    </tr>\n",
       "    <tr>\n",
       "      <th>29</th>\n",
       "      <td>6479.0</td>\n",
       "      <td>4809.568246</td>\n",
       "      <td>25.766812</td>\n",
       "    </tr>\n",
       "  </tbody>\n",
       "</table>\n",
       "</div>"
      ],
      "text/plain": [
       "      price  predicted price     error%\n",
       "0   13495.0     13699.077002   1.512242\n",
       "1   16500.0     13699.077002  16.975291\n",
       "2   16500.0     19052.713464  15.470991\n",
       "3   13950.0     10620.615242  23.866557\n",
       "4   17450.0     15520.900251  11.055013\n",
       "5   15250.0     13869.274636   9.053937\n",
       "6   17710.0     15455.888338  12.727903\n",
       "7   18920.0     15973.774116  15.572018\n",
       "8   23875.0     17612.782930  26.229181\n",
       "9   16430.0     10722.479868  34.738406\n",
       "10  16925.0     10722.479868  36.647091\n",
       "11  20970.0     17804.678387  15.094524\n",
       "12  21105.0     18063.621276  14.410702\n",
       "13  24565.0     19320.478333  21.349569\n",
       "14  30760.0     26969.329264  12.323377\n",
       "15  41315.0     27675.537144  33.013343\n",
       "16  36880.0     28191.724925  23.558230\n",
       "17   5151.0       651.897951  87.344245\n",
       "18   6295.0      5649.148523  10.259753\n",
       "19   6575.0      5813.930361  11.575204\n",
       "20   5572.0      5479.185387   1.665732\n",
       "21   6377.0      5370.707209  15.780034\n",
       "22   7957.0      8739.991462   9.840285\n",
       "23   6229.0      5799.139989   6.900947\n",
       "24   6692.0      5902.717145  11.794424\n",
       "25   7609.0      5902.717145  22.424535\n",
       "26   8558.0      9036.598772   5.592414\n",
       "27   8921.0     11863.052850  32.978958\n",
       "28  12964.0     18768.177197  44.771500\n",
       "29   6479.0      4809.568246  25.766812"
      ]
     },
     "execution_count": 14,
     "metadata": {},
     "output_type": "execute_result"
    }
   ],
   "source": [
    "compare_df = pd.concat([df[\"price\"],price],axis=1)\n",
    "compare_df.head(30)"
   ]
  },
  {
   "cell_type": "markdown",
   "id": "87390027",
   "metadata": {},
   "source": [
    "<h2> Model evaluation using Visualisation </h2>\n",
    "<p>As we can see we can fit a model with resonably chosen predicators, but how to asses if they are good? Going through above table seems to be timeconsuming. Faster, if using our seanses is to use some plots.</p>"
   ]
  },
  {
   "cell_type": "code",
   "execution_count": 15,
   "id": "20fe72cc",
   "metadata": {},
   "outputs": [
    {
     "data": {
      "text/plain": [
       "(0.0, 48164.5626999714)"
      ]
     },
     "execution_count": 15,
     "metadata": {},
     "output_type": "execute_result"
    },
    {
     "data": {
      "image/png": "[encoded data removed]",
      "text/plain": [
       "<Figure size 720x864 with 1 Axes>"
      ]
     },
     "metadata": {
      "needs_background": "light"
     },
     "output_type": "display_data"
    }
   ],
   "source": [
    "import seaborn as sns\n",
    "width, height = 10, 12\n",
    "fig, ax = plt.subplots(figsize=(width,height))\n",
    "sns.regplot(x=\"highway-mpg\",y=\"price\",data=df,ax=ax)\n",
    "ax.set_ylim(0,)\n",
    "# plt.ylim(0,) would also work"
   ]
  },
  {
   "cell_type": "markdown",
   "id": "64cc02c0",
   "metadata": {},
   "source": [
    "<p>We see here negative correlation between highway-mpg and price, but also noticeble is that data with low and high highway-mpg far sccatered. But data in the middle behaves just fine^^.</p> \n",
    "<p> We could also compare above plot with another, for example ploting peak-rpm vs price. Yet resonable approach is still to you Pearson correlation. </p>"
   ]
  },
  {
   "cell_type": "code",
   "execution_count": 16,
   "id": "f1a94a2d",
   "metadata": {},
   "outputs": [
    {
     "data": {
      "text/html": [
       "<div>\n",
       "<style scoped>\n",
       "    .dataframe tbody tr th:only-of-type {\n",
       "        vertical-align: middle;\n",
       "    }\n",
       "\n",
       "    .dataframe tbody tr th {\n",
       "        vertical-align: top;\n",
       "    }\n",
       "\n",
       "    .dataframe thead th {\n",
       "        text-align: right;\n",
       "    }\n",
       "</style>\n",
       "<table border=\"1\" class=\"dataframe\">\n",
       "  <thead>\n",
       "    <tr style=\"text-align: right;\">\n",
       "      <th></th>\n",
       "      <th>peak-rpm</th>\n",
       "      <th>highway-mpg</th>\n",
       "      <th>price</th>\n",
       "    </tr>\n",
       "  </thead>\n",
       "  <tbody>\n",
       "    <tr>\n",
       "      <th>peak-rpm</th>\n",
       "      <td>1.000000</td>\n",
       "      <td>-0.058598</td>\n",
       "      <td>-0.101616</td>\n",
       "    </tr>\n",
       "    <tr>\n",
       "      <th>highway-mpg</th>\n",
       "      <td>-0.058598</td>\n",
       "      <td>1.000000</td>\n",
       "      <td>-0.704692</td>\n",
       "    </tr>\n",
       "    <tr>\n",
       "      <th>price</th>\n",
       "      <td>-0.101616</td>\n",
       "      <td>-0.704692</td>\n",
       "      <td>1.000000</td>\n",
       "    </tr>\n",
       "  </tbody>\n",
       "</table>\n",
       "</div>"
      ],
      "text/plain": [
       "             peak-rpm  highway-mpg     price\n",
       "peak-rpm     1.000000    -0.058598 -0.101616\n",
       "highway-mpg -0.058598     1.000000 -0.704692\n",
       "price       -0.101616    -0.704692  1.000000"
      ]
     },
     "execution_count": 16,
     "metadata": {},
     "output_type": "execute_result"
    }
   ],
   "source": [
    "df[[\"peak-rpm\",\"highway-mpg\",\"price\"]].corr()"
   ]
  },
  {
   "cell_type": "markdown",
   "id": "fd1601b3",
   "metadata": {},
   "source": [
    "<p>As we can see highway-mpg and price have absolutely greater correlation (-0.704692) than peak-rpm and price (-0.101616). </p> \n",
    "<p> But it is not the only way to check performence of a model. We can calculate $RMSE$ and $R^2$ value.</p>"
   ]
  },
  {
   "cell_type": "markdown",
   "id": "3ba424a9",
   "metadata": {},
   "source": [
    "<h2> Residual Plot </h2>\n",
    "This time we would like to observe how variance of the data behaves. We will use a residual plot to do this. Where residual is a distance from $Y$-response and $\\hat{Y}$-prediction.\n",
    "<p>So what is a <b>residual plot</b>?</p>\n",
    "<p>A residual plot is a graph that shows the residuals on the vertical y-axis and the independent variable on the horizontal x-axis.</p>\n",
    "<p>What do we pay attention to when looking at a residual plot?</p>\n",
    "<p>We look at the spread of the residuals:</p>\n",
    "<p>- If the points in a residual plot are <b>randomly spread out around the x-axis</b>, then a <b>linear model is appropriate</b> for the data.\n",
    "Why is that? Randomly spread out residuals means that the variance is constant, and thus the linear model is a good fit for this data.</p>\n"
   ]
  },
  {
   "cell_type": "code",
   "execution_count": 17,
   "id": "ff1070b5",
   "metadata": {},
   "outputs": [
    {
     "data": {
      "text/plain": [
       "<AxesSubplot:xlabel='highway-mpg', ylabel='price'>"
      ]
     },
     "execution_count": 17,
     "metadata": {},
     "output_type": "execute_result"
    },
    {
     "data": {
      "image/png": "[encoded data removed]",
      "text/plain": [
       "<Figure size 720x864 with 1 Axes>"
      ]
     },
     "metadata": {
      "needs_background": "light"
     },
     "output_type": "display_data"
    }
   ],
   "source": [
    "# take a look at example\n",
    "# we can assign our data diffrently like\n",
    "fig1, ax1 = plt.subplots(figsize=(width,height))\n",
    "sns.residplot(x=df[\"highway-mpg\"],y=df[\"price\"],ax=ax1)"
   ]
  },
  {
   "cell_type": "markdown",
   "id": "c56d8308",
   "metadata": {},
   "source": [
    "<p> This plot shows us spread of residuals around x-axis ( black one ). And we can see that residuals are not randomly spreaded. So this indicates that out linear model is maybe not the best apporach and maybe we should use some non-linear?</p>"
   ]
  },
  {
   "cell_type": "markdown",
   "id": "08ac3d57",
   "metadata": {},
   "source": [
    "<h2> Multiple Linear Regression </h2>\n",
    "<p> Here situation gets more complecated. Because we can't possible visualize regression model with more then two predicators... </p>\n",
    "<p> For example what if we wanted to try visualize predictions of price based on \"horsepower\",\"curb-weight\",\"engine-size\",\"highway-mpg\"</p>\n",
    "<p> One way two do this is by looking at the distribution plot of predicted response vs true respone variables. </p>"
   ]
  },
  {
   "cell_type": "code",
   "execution_count": 18,
   "id": "65fe2929",
   "metadata": {},
   "outputs": [
    {
     "data": {
      "text/plain": [
       "'\\n# THIS IS THE OLD WAY!!!\\n# create predicted response\\nY_hat = lm_Z.predict(Z)\\n# plot two distribuitions of price & predicted price\\nfig2, ax2 = plt.subplots(figsize=(width,height))\\nsns.distplot(df[\"price\"],hist=False,color=\\'r\\',label=\"price\",ax=ax2)\\nsns.distplot(Y_hat,hist=False,color=\\'b\\',label=\"predoceted price\",ax=ax2)\\n\\nax2.set_title(\\'Actual vs Fitted Values for Price\\')\\nax2.set_xlabel(\\'Price (in dollars)\\')\\nax2.set_ylabel(\\'Proportion of Cars\\')\\n\\nplt.show()\\nplt.close()\\n'"
      ]
     },
     "execution_count": 18,
     "metadata": {},
     "output_type": "execute_result"
    }
   ],
   "source": [
    "\"\"\"\n",
    "# THIS IS THE OLD WAY!!!\n",
    "# create predicted response\n",
    "Y_hat = lm_Z.predict(Z)\n",
    "# plot two distribuitions of price & predicted price\n",
    "fig2, ax2 = plt.subplots(figsize=(width,height))\n",
    "sns.distplot(df[\"price\"],hist=False,color='r',label=\"price\",ax=ax2)\n",
    "sns.distplot(Y_hat,hist=False,color='b',label=\"predoceted price\",ax=ax2)\n",
    "\n",
    "ax2.set_title('Actual vs Fitted Values for Price')\n",
    "ax2.set_xlabel('Price (in dollars)')\n",
    "ax2.set_ylabel('Proportion of Cars')\n",
    "\n",
    "plt.show()\n",
    "plt.close()\n",
    "\"\"\""
   ]
  },
  {
   "cell_type": "code",
   "execution_count": 19,
   "id": "19657f16",
   "metadata": {},
   "outputs": [
    {
     "data": {
      "image/png": "[encoded data removed]",
      "text/plain": [
       "<Figure size 720x864 with 1 Axes>"
      ]
     },
     "metadata": {
      "needs_background": "light"
     },
     "output_type": "display_data"
    }
   ],
   "source": [
    "# create predicted response\n",
    "Y_hat = lm_Z.predict(Z)\n",
    "\n",
    "# plot two distributions of price & predicted price using KDE plot\n",
    "fig2, ax2 = plt.subplots(figsize=(width,height))\n",
    "sns.kdeplot(df[\"price\"], color='r', label=\"price\", ax=ax2)\n",
    "sns.kdeplot(Y_hat, color='b', label=\"predicted price\", ax=ax2)\n",
    "\n",
    "ax2.set_title('Actual vs Fitted Values for Price')\n",
    "ax2.set_xlabel('Price (in dollars)')\n",
    "ax2.set_ylabel('Density')\n",
    "\n",
    "plt.show()\n",
    "plt.close()\n"
   ]
  },
  {
   "cell_type": "markdown",
   "id": "60538a8a",
   "metadata": {},
   "source": [
    "<p>We can see that model is resonable good. Yet there's still room for improvement.</p>"
   ]
  },
  {
   "cell_type": "markdown",
   "id": "ebfbbed1",
   "metadata": {},
   "source": [
    "<h2> Polynomial Regression an Pipelines </h2>\n",
    "<p><b> Polynomial regression </b> is a case of general linear regression model or multiple regression models. Because we take higher-order terms as</p>\n",
    "* <b> Quadratic - 2nd order </b>\n",
    "<center> $\\hat{Y} = \\beta_0 + \\beta_1 X + \\beta_2 X^2$ </center>\n",
    "* <b> nth-order </b>\n",
    "<center> $\\hat{Y} = \\beta_0 + \\beta_1 X + \\beta_2 X^2 + \\beta_3 X^3 + ... \\beta_n X^n$ </center>\n",
    "<p> Actaully we say that these are not linear models, buut if we take as a $X_i = X^i$ thean we get mutliliner model.</p>\n"
   ]
  },
  {
   "cell_type": "code",
   "execution_count": 20,
   "id": "1e10805f",
   "metadata": {},
   "outputs": [
    {
     "name": "stdout",
     "output_type": "stream",
     "text": [
      "        3         2\n",
      "-1.557 x + 204.8 x - 8965 x + 1.379e+05\n"
     ]
    }
   ],
   "source": [
    "# to calculate nth order model\n",
    "x = np.array(df[\"highway-mpg\"])\n",
    "y = np.array(df[\"price\"])\n",
    "# we will use polyfit, poly1d numpy functions \n",
    "# to calculate coefficients of 3rd order\n",
    "fit_Z_3ord = np.polyfit(x,y,3)\n",
    "# fitting model of 3rd order as polynomial function\n",
    "polynomial_Z = np.poly1d(fit_Z_3ord)\n",
    "print(polynomial_Z)"
   ]
  },
  {
   "cell_type": "code",
   "execution_count": 21,
   "id": "74685487",
   "metadata": {},
   "outputs": [],
   "source": [
    "x_new = np.linspace(15,55,100)\n",
    "y_new = polynomial_Z(x_new)"
   ]
  },
  {
   "cell_type": "code",
   "execution_count": 27,
   "id": "db72cdc0",
   "metadata": {},
   "outputs": [
    {
     "data": {
      "text/plain": [
       "[<matplotlib.lines.Line2D at 0x1fff5d87130>]"
      ]
     },
     "execution_count": 27,
     "metadata": {},
     "output_type": "execute_result"
    },
    {
     "data": {
      "image/png": "[encoded data removed]",
      "text/plain": [
       "<Figure size 720x864 with 1 Axes>"
      ]
     },
     "metadata": {
      "needs_background": "light"
     },
     "output_type": "display_data"
    }
   ],
   "source": [
    "fig3, ax3 = plt.subplots(figsize=(width,height))\n",
    "#ax3.set_facecolor((0.898, 0.898, 0.898))\n",
    "ax3.scatter(x=\"highway-mpg\",y=\"price\",data=df)\n",
    "ax3.plot(x_new,y_new,color=\"r\")"
   ]
  },
  {
   "cell_type": "markdown",
   "id": "ec6e26d1",
   "metadata": {},
   "source": [
    "<p><b>Remark</b> that we can have Multivariate Polynomial function.</p>\n",
    "<p> For example with predicators $X_1, X_2$ we have </p>\n",
    "<center> $\\hat{Y} = \\beta_0 + \\beta_1 X_1 + \\beta_2 X_2 + \\beta_3 X_1 X_2 + \\beta_4 X_{1}^2 + \\beta_5 X_{2}^2$ </center>\n",
    "<p> We can simply calculate that using PolynomialFeatures </p>"
   ]
  },
  {
   "cell_type": "code",
   "execution_count": 28,
   "id": "5572f96f",
   "metadata": {},
   "outputs": [],
   "source": [
    "# from sklearn.preprocessing import PolynomialFeatures"
   ]
  },
  {
   "cell_type": "markdown",
   "id": "31527d5d",
   "metadata": {},
   "source": [
    "<h2> Pipeline </h2>\n",
    "<p> In a typical data processing pipeline, the data is first collected and cleaned to remove any errors, duplicates, or missing values. The cleaned data is then preprocessed, which may involve transforming the data into a different format, scaling or normalizing the data, or extracting relevant features. Next, the preprocessed data is fed into a machine learning model, which is trained on a subset of the data and then used to make predictions on new data. Finally, the predictions are evaluated and analyzed to draw insights and make decisions. </p>"
   ]
  },
  {
   "cell_type": "code",
   "execution_count": 30,
   "id": "fa57509c",
   "metadata": {},
   "outputs": [
    {
     "name": "stdout",
     "output_type": "stream",
     "text": [
      "Pipeline(steps=[('scale', StandardScaler()),\n",
      "                ('polynomial', PolynomialFeatures(include_bias=False)),\n",
      "                ('model', LinearRegression())])\n"
     ]
    },
    {
     "data": {
      "text/plain": [
       "array([13102.93329646, 13102.93329646, 18226.43450275, 10391.09183955])"
      ]
     },
     "execution_count": 30,
     "metadata": {},
     "output_type": "execute_result"
    }
   ],
   "source": [
    "from sklearn.pipeline import Pipeline\n",
    "from sklearn.preprocessing import StandardScaler, PolynomialFeatures\n",
    "\n",
    "Input=[('scale',StandardScaler()),\n",
    "    ('polynomial', PolynomialFeatures(include_bias=False)), \n",
    "    ('model',LinearRegression())]\n",
    "pipe=Pipeline(Input)\n",
    "print(pipe)\n",
    "\n",
    "Z = Z.astype(float)\n",
    "pipe.fit(Z,y)\n",
    "\n",
    "ypipe=pipe.predict(Z)\n",
    "ypipe[0:4]"
   ]
  },
  {
   "cell_type": "markdown",
   "id": "131371f5",
   "metadata": {},
   "source": [
    "<h2> Measures for In-Sample Evaluation </h2>\n",
    "<p> \n",
    "<ul>\n",
    "    <li> R^2 </li>\n",
    "    <p>R squared, also known as the coefficient of determination, is a measure to indicate how close the data is to the fitted regression line. The value of the R-squared is the percentage of variation of the response variable (y) that is explained by a linear model.</p>\n",
    "    <li> Mean Squared Error (MSE) </li>\n",
    "    <p>The Mean Squared Error measures the average of the squares of errors. That is, the difference between actual value (y) and the estimated value (ŷ).</p>\n",
    "</ul>\n",
    "</p>"
   ]
  },
  {
   "cell_type": "code",
   "execution_count": 31,
   "id": "da42b112",
   "metadata": {},
   "outputs": [
    {
     "name": "stdout",
     "output_type": "stream",
     "text": [
      "The R^2 = 0.4965911884339175\n"
     ]
    }
   ],
   "source": [
    "lm = LinearRegression()\n",
    "x = df[[\"highway-mpg\"]]\n",
    "y = df[\"price\"]\n",
    "lm.fit(x,y)\n",
    "# find R-squared\n",
    "print(f\"The R^2 = {lm.score(x,y)}\")"
   ]
  },
  {
   "cell_type": "markdown",
   "id": "932042ab",
   "metadata": {},
   "source": [
    "We can intrepret the output this way: Model predicts $\\approx 49.66 %$ of the variation of the price explained by highway-mpg. <p> Lets calulate MSE. </p>"
   ]
  },
  {
   "cell_type": "code",
   "execution_count": 32,
   "id": "d3e63176",
   "metadata": {},
   "outputs": [
    {
     "name": "stdout",
     "output_type": "stream",
     "text": [
      "The mean square error of price and predicted value is:  31635042.944639895\n"
     ]
    }
   ],
   "source": [
    "from sklearn.metrics import mean_squared_error\n",
    "Yhat=lm.predict(x)\n",
    "mse = mean_squared_error(df[\"price\"],Yhat)\n",
    "print('The mean square error of price and predicted value is: ', mse)"
   ]
  },
  {
   "cell_type": "markdown",
   "id": "5df0d63c",
   "metadata": {},
   "source": [
    "How to interpret MSE? It is the best to create few types of models and compare their MSE. Model with  smallest MSE is a better fit for the data."
   ]
  }
 ],
 "metadata": {
  "kernelspec": {
   "display_name": "Python 3 (ipykernel)",
   "language": "python",
   "name": "python3"
  },
  "language_info": {
   "codemirror_mode": {
    "name": "ipython",
    "version": 3
   },
   "file_extension": ".py",
   "mimetype": "text/x-python",
   "name": "python",
   "nbconvert_exporter": "python",
   "pygments_lexer": "ipython3",
   "version": "3.9.12"
  }
 },
 "nbformat": 4,
 "nbformat_minor": 5
}
